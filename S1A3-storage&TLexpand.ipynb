{
 "cells": [
  {
   "cell_type": "code",
   "execution_count": 1,
   "id": "143c4aea",
   "metadata": {},
   "outputs": [],
   "source": [
    "import os\n",
    "import pandas as pd\n",
    "import numpy as np\n",
    "import matplotlib.pyplot as plt\n",
    "from pyomo.environ import *\n",
    "opt = SolverFactory('glpk').executable = 'D:\\download\\glpk-4.65\\w64'"
   ]
  },
  {
   "cell_type": "code",
   "execution_count": 2,
   "id": "5a4daa87",
   "metadata": {},
   "outputs": [],
   "source": [
    "#Read generators and demand data as two dataframes  Desktop717data\n",
    "df_NuclearData=pd.read_excel(\"Desktop/717/data/S1A3.xlsx\",sheet_name=\"NuclearData\",skiprows=1)\n",
    "df_genData=pd.read_excel(\"Desktop/717/data/S1A3.xlsx\",sheet_name=\"GeneratorsData\",skiprows=1) #read data from generators tab and skip the first row\n",
    "df_AverloadsData=pd.read_excel(\"Desktop/717/data/S1A3.xlsx\",sheet_name=\"rooftopStorageAerageDemand2040\",skiprows=1)\n",
    "#df_PeakloadsData=pd.read_excel(\"Desktop/717/data/S1try1.xlsx\",sheet_name=\"PeakLoadData\",skiprows=1) \n",
    "df_linesData=pd.read_excel(\"Desktop/717/data/S1A3.xlsx\",sheet_name=\"LinesData\",skiprows=1) \n",
    "df_FossilFuel=pd.read_excel(\"Desktop/717/data/S1A3.xlsx\",sheet_name=\"FossilFuelData\",skiprows=1)\n",
    "df_RenewableEnergy=pd.read_excel(\"Desktop/717/data/S1A3.xlsx\",sheet_name=\"REData\",skiprows=1)"
   ]
  },
  {
   "cell_type": "code",
   "execution_count": 3,
   "id": "04b2774c",
   "metadata": {
    "scrolled": false
   },
   "outputs": [
    {
     "name": "stdout",
     "output_type": "stream",
     "text": [
      "We read data for 6 nuclear power generating units\n",
      "We read data for 18 no nuclear power generating units\n",
      "We read data for 3 nodes\n",
      "We read data for 3 transmission lines\n",
      "We read data for 12 fossil fuel plants\n",
      "We read data for 4 renewable energy plants\n"
     ]
    }
   ],
   "source": [
    "#define the size of the sets\n",
    "Nulear=len(df_NuclearData)\n",
    "NumGens=len(df_genData)\n",
    "NumNodes=len(df_AverloadsData)\n",
    "NumLines=len(df_linesData)\n",
    "NumFossilFuel=len(df_FossilFuel)\n",
    "NumRenewableEnergy=len(df_RenewableEnergy)\n",
    "#T=len(df_demandData)\n",
    "print(\"We read data for\", Nulear, \"nuclear power generating units\")\n",
    "print(\"We read data for\", NumGens, \"no nuclear power generating units\")\n",
    "print(\"We read data for\", NumNodes, \"nodes\")\n",
    "print(\"We read data for\", NumLines, \"transmission lines\")\n",
    "print(\"We read data for\", NumFossilFuel, \"fossil fuel plants\")\n",
    "print(\"We read data for\", NumRenewableEnergy, \"renewable energy plants\")"
   ]
  },
  {
   "cell_type": "code",
   "execution_count": 4,
   "id": "10861de4",
   "metadata": {},
   "outputs": [],
   "source": [
    "#Define Indexes\n",
    "C=np.array([c for c in range(0,Nulear)])\n",
    "G=np.array([g for g in range(0,NumGens)])  \n",
    "N=np.array([n for n in range(0,NumNodes)])\n",
    "L=np.array([l for l in range(0,NumLines)])\n",
    "F=np.array([f for f in range(0,NumFossilFuel)])\n",
    "R=np.array([r for r in range(0,NumRenewableEnergy)])"
   ]
  },
  {
   "cell_type": "code",
   "execution_count": 18,
   "id": "7ac29dbc",
   "metadata": {
    "scrolled": true
   },
   "outputs": [
    {
     "data": {
      "text/plain": [
       "Index(['GenName', 'Node', 'FixedCost', 'SDCost', 'SUCost', 'VarCost', 'MaxGen',\n",
       "       'PSpringMaxGen', 'PSummerMaxGen', 'PAutumnMaxGen', 'PWinterMaxGen',\n",
       "       'OSpringMaxGen', 'OSummerMaxGen', 'OAutumnMaxGen', 'OWinterMaxGen',\n",
       "       'MinGen', 'RampDown', 'RampSD', 'RampSU', 'RampUp', 'MinUpTime',\n",
       "       'MinDownTime', 'ReqUp', 'ReqDown', 'InitialStatus', 'InitialGen',\n",
       "       'Plant Name', 'Fuel Type', 'Average Emission Rate'],\n",
       "      dtype='object')"
      ]
     },
     "execution_count": 18,
     "metadata": {},
     "output_type": "execute_result"
    }
   ],
   "source": [
    "df_FossilFuel.columns"
   ]
  },
  {
   "cell_type": "code",
   "execution_count": 19,
   "id": "58573026",
   "metadata": {
    "scrolled": true
   },
   "outputs": [
    {
     "data": {
      "text/plain": [
       "11078.500000000002"
      ]
     },
     "execution_count": 19,
     "metadata": {},
     "output_type": "execute_result"
    }
   ],
   "source": [
    "sum(df_FossilFuel.MaxGen)"
   ]
  },
  {
   "cell_type": "code",
   "execution_count": 5,
   "id": "00a1b78e",
   "metadata": {},
   "outputs": [],
   "source": [
    "##Declare the generator's parameters and assign them the data we read before\n",
    "NVarCost=df_NuclearData.loc[:,'NVarCost'].to_numpy()\n",
    "VarCost=df_genData.loc[:,'VarCost'].to_numpy()\n",
    "# generation capacity of peak hour for each seasons\n",
    "PSpringPMax=df_genData.loc[:,'PSpringMaxGen'].to_numpy()\n",
    "PSummerPMax=df_genData.loc[:,'PSummerMaxGen'].to_numpy()\n",
    "PFallPMax=df_genData.loc[:,'PAutumnMaxGen'].to_numpy()\n",
    "PWinterPMax=df_genData.loc[:,'PWinterMaxGen'].to_numpy()\n",
    "# generation capacity of off-peak hour for each seasons\n",
    "OSpringPMax=df_genData.loc[:,'OSpringMaxGen'].to_numpy()\n",
    "OSummerPMax=df_genData.loc[:,'OSummerMaxGen'].to_numpy()\n",
    "OFallPMax=df_genData.loc[:,'OAutumnMaxGen'].to_numpy()\n",
    "OWinterPMax=df_genData.loc[:,'OWinterMaxGen'].to_numpy()\n",
    "# nuclear generation capacity for each seasons\n",
    "NSpringPMax=df_NuclearData.loc[:,'NSpringMaxGen'].to_numpy()\n",
    "NSummerPMax=df_NuclearData.loc[:,'NSummerMaxGen'].to_numpy()\n",
    "NFallPMax=df_NuclearData.loc[:,'NAutumnMaxGen'].to_numpy()\n",
    "NWinterPMax=df_NuclearData.loc[:,'NWinterMaxGen'].to_numpy()\n",
    "#emission rate of each generator\n",
    "GEmissionRate=df_genData.loc[:,'Average Emission Rate'].to_numpy()\n",
    "#other attributes\n",
    "PMin=df_genData.loc[:,'MinGen'].to_numpy()\n",
    "NGenNode=df_NuclearData.loc[:,'NNode'].to_numpy()\n",
    "GenNode=df_genData.loc[:,'Node'].to_numpy()"
   ]
  },
  {
   "cell_type": "code",
   "execution_count": 8,
   "id": "8c423ebc",
   "metadata": {},
   "outputs": [
    {
     "data": {
      "text/plain": [
       "3"
      ]
     },
     "execution_count": 8,
     "metadata": {},
     "output_type": "execute_result"
    }
   ],
   "source": [
    "NumLines #In the data we defined 3 lines as: L1-2, L2-3, and L3-1.\n",
    "#We could have defined them in other way, but this is convenient for the KVL equation"
   ]
  },
  {
   "cell_type": "code",
   "execution_count": 6,
   "id": "84300347",
   "metadata": {},
   "outputs": [],
   "source": [
    "##Declare the transmission lines' parameters and assign them the data we read before\n",
    "NodeFrom=df_linesData.loc[:,'NodeFrom'].to_numpy()\n",
    "NodeTo=df_linesData.loc[:,'NodeTo'].to_numpy()\n",
    "LineReactance=df_linesData.loc[:,'Reactance'].to_numpy()\n",
    "LineCapacity=df_linesData.loc[:,'Capacity'].to_numpy()"
   ]
  },
  {
   "cell_type": "code",
   "execution_count": 7,
   "id": "642ab76c",
   "metadata": {
    "scrolled": false
   },
   "outputs": [
    {
     "data": {
      "text/plain": [
       "Index(['LoadName', 'Node', 'PeakWinter', 'PeakSpring', 'PeakSummer',\n",
       "       'PeakFall', 'Off-PeakWinter', 'Off-PeakSpring', 'Off-PeakSummer',\n",
       "       'Off-PeakFall'],\n",
       "      dtype='object')"
      ]
     },
     "execution_count": 7,
     "metadata": {},
     "output_type": "execute_result"
    }
   ],
   "source": [
    "df_AverloadsData.columns"
   ]
  },
  {
   "cell_type": "code",
   "execution_count": 7,
   "id": "6aaf9313",
   "metadata": {},
   "outputs": [],
   "source": [
    "ALoadBus=df_AverloadsData.loc[:,'Node'].to_numpy( )\n",
    "#Demand of peak hours and off-peak hour in each seasons\n",
    "APeakSpringDemand=df_AverloadsData.loc[:,'PeakSpring'].to_numpy( )\n",
    "AOffPeakSpringDemand=df_AverloadsData.loc[:,'Off-PeakSpring'].to_numpy( )\n",
    "APeakSummerDemand=df_AverloadsData.loc[:,'PeakSummer'].to_numpy( )\n",
    "AOffPeakSummerDemand=df_AverloadsData.loc[:,'Off-PeakSummer'].to_numpy( )\n",
    "APeakFallDemand=df_AverloadsData.loc[:,'PeakFall'].to_numpy( )\n",
    "AOffPeakFallDemand=df_AverloadsData.loc[:,'Off-PeakFall'].to_numpy( )\n",
    "APeakWinterDemand=df_AverloadsData.loc[:,'PeakWinter'].to_numpy( )\n",
    "AOffPeakWinterDemand=df_AverloadsData.loc[:,'Off-PeakWinter'].to_numpy( )\n"
   ]
  },
  {
   "cell_type": "code",
   "execution_count": 8,
   "id": "35453f51",
   "metadata": {},
   "outputs": [],
   "source": [
    "# define a function indicatorMatrix that creates indicator matrices to relate generators with their node\n",
    "# and relate lines with the nodes\n",
    "#dataRows is a column vector of NumRows rows. Each element says the column where this row should be a one in the final matrix\n",
    "def IndicatorMatrix(NumRows, NumCols, dataRows):\n",
    "    matrix= np.zeros((NumRows, NumCols),dtype=int)\n",
    "    for i in range(0,NumRows):\n",
    "        matrix[i,dataRows[i]-1]=1\n",
    "    return matrix"
   ]
  },
  {
   "cell_type": "code",
   "execution_count": 9,
   "id": "13aea2a6",
   "metadata": {},
   "outputs": [],
   "source": [
    "#Create indicator matrices using the function defined above\n",
    "#NuclearInBus is a matrix of C rows and N columns that has 1 in the position c,n if generator g is AT node N, 0 otherwise\n",
    "NuclearInBus=IndicatorMatrix(Nulear,NumNodes,NGenNode)\n",
    "#GeneratorInBus is a matrix of G rows and N columns that has 1 in the position g,n if generator g is AT node N, 0 otherwise\n",
    "GeneratorInBus=IndicatorMatrix(NumGens,NumNodes,GenNode)\n",
    "#LineFromBus is an indicator matrix of L rows and N columns that has 1 in the position l,n if line l departs FROM node N, 0 otherwise\n",
    "LineFromBus=IndicatorMatrix(NumLines,NumNodes,NodeFrom)\n",
    "#LineToBus is an indicator matrix of L rows and N columns that has 1 in the position l,n if line l arrives TO node N, 0 otherwise\n",
    "LineToBus=IndicatorMatrix(NumLines,NumNodes,NodeTo)"
   ]
  },
  {
   "cell_type": "code",
   "execution_count": 25,
   "id": "45231782",
   "metadata": {
    "scrolled": true
   },
   "outputs": [
    {
     "data": {
      "text/plain": [
       "array([[1, 0, 0],\n",
       "       [0, 1, 0],\n",
       "       [0, 1, 0],\n",
       "       [0, 0, 1],\n",
       "       [0, 0, 1],\n",
       "       [0, 0, 1]])"
      ]
     },
     "execution_count": 25,
     "metadata": {},
     "output_type": "execute_result"
    }
   ],
   "source": [
    "NuclearInBus"
   ]
  },
  {
   "cell_type": "markdown",
   "id": "39d57c3a",
   "metadata": {},
   "source": [
    "Average Winter peak hour"
   ]
  },
  {
   "cell_type": "code",
   "execution_count": 15,
   "id": "9af1ec2b",
   "metadata": {
    "scrolled": true
   },
   "outputs": [
    {
     "data": {
      "text/plain": [
       "25513.031621350317"
      ]
     },
     "execution_count": 15,
     "metadata": {},
     "output_type": "execute_result"
    }
   ],
   "source": [
    "sum(APeakWinterDemand)"
   ]
  },
  {
   "cell_type": "code",
   "execution_count": 10,
   "id": "cc6ef6fd",
   "metadata": {},
   "outputs": [],
   "source": [
    "#UC MODEL of Average winter peak hour   \n",
    "def APeakWinterED():\n",
    "    m=ConcreteModel()\n",
    "    #m.dual = Suffix(direction=Suffix.IMPORT_EXPORT)\n",
    "    m.dual = Suffix(direction=Suffix.IMPORT)#Create a 'dual' suffix component on the instance so the solver plugin will know which suffixes to collect\n",
    "    m.N=Set(initialize=N)\n",
    "    m.L=Set(initialize=L)\n",
    "    m.G=Set(initialize=G)\n",
    "    m.F=Set(initialize=F)\n",
    "    m.p=Var(m.G, bounds = (0,20000))#This is power generation. Could also declare as m.p=Var(m.G,within=PositiveReals)\n",
    "    m.flow=Var(m.L, bounds = (-5000,5000))#This is power flow on a line\n",
    "    m.system_cost=Objective(expr=sum(m.p[g]*VarCost[g] for g in m.G)+ sum(NVarCost[c]*NWinterPMax[c] for c in C), sense=minimize)#Objective is to minimize costs\n",
    "    m.MaxGeneration=Constraint(m.G, rule=lambda m, g:  m.p[g] <= PWinterPMax[g])\n",
    "    #Spinning reserves requirement as a fraction of 3% of net demand\n",
    "    m.SpinningReserve1=Constraint(m.F, rule=lambda m, f: sum(df_FossilFuel.MaxGen)-sum(m.p[f] for f in F)>=0.03*sum(APeakWinterDemand))\n",
    "    # refer Constraint(rule=lambda m: sum(LineReactance[l]*m.flow[l] for l in L)==0)\n",
    "    m.NodePowerBalanceConstraint=Constraint(m.N, rule=lambda m, n: sum(LineToBus[l,n]*m.flow[l] for l in L)-sum(LineFromBus[l,n]*m.flow[l] for l in L)+sum(GeneratorInBus[g,n]*m.p[g] for g in G)+sum(NuclearInBus[c,n]*NWinterPMax[c] for c in C)==APeakWinterDemand[n])\n",
    "    m.KVLAroundLoopConstraint=Constraint(rule=lambda m: sum(LineReactance[l]*m.flow[l] for l in L)==0)#Note that in the data we defined the lines L1-2, L2-3, and L3,1 . That way the coefficient of each one in the KVL loop is positive 1.\n",
    "    m.MaxFlow=Constraint(m.L, rule=lambda m, l:  m.flow[l] <= LineCapacity[l])\n",
    "    m.MaxCounterFlow=Constraint(m.L, rule=lambda m, l:  m.flow[l] >= -LineCapacity[l])\n",
    "    return m\n",
    "\n"
   ]
  },
  {
   "cell_type": "code",
   "execution_count": 11,
   "id": "b1e14cb0",
   "metadata": {
    "scrolled": true
   },
   "outputs": [
    {
     "name": "stdout",
     "output_type": "stream",
     "text": [
      "# ==========================================================\n",
      "# = Solver Results                                         =\n",
      "# ==========================================================\n",
      "# ----------------------------------------------------------\n",
      "#   Problem Information\n",
      "# ----------------------------------------------------------\n",
      "Problem: \n",
      "- Name: unknown\n",
      "  Lower bound: 167146.423\n",
      "  Upper bound: 167146.423\n",
      "  Number of objectives: 1\n",
      "  Number of constraints: 41\n",
      "  Number of variables: 22\n",
      "  Number of nonzeros: 196\n",
      "  Sense: minimize\n",
      "# ----------------------------------------------------------\n",
      "#   Solver Information\n",
      "# ----------------------------------------------------------\n",
      "Solver: \n",
      "- Status: ok\n",
      "  Termination condition: optimal\n",
      "  Statistics: \n",
      "    Branch and bound: \n",
      "      Number of bounded subproblems: 0\n",
      "      Number of created subproblems: 0\n",
      "  Error rc: 0\n",
      "  Time: 0.05154132843017578\n",
      "# ----------------------------------------------------------\n",
      "#   Solution Information\n",
      "# ----------------------------------------------------------\n",
      "Solution: \n",
      "- number of solutions: 0\n",
      "  number of solutions displayed: 0\n"
     ]
    }
   ],
   "source": [
    "m=APeakWinterED()\n",
    "SolverFactory('glpk',executable='D:\\download\\glpk-4.65\\w64\\glpsol.exe').solve(m).write()"
   ]
  },
  {
   "cell_type": "code",
   "execution_count": 12,
   "id": "98652408",
   "metadata": {},
   "outputs": [
    {
     "name": "stdout",
     "output_type": "stream",
     "text": [
      "0.000000 metric ton\n"
     ]
    }
   ],
   "source": [
    "# Total emission in this hour\n",
    "# create an empty DataFrame with the appropriate column names\n",
    "dfeachgen = pd.DataFrame(columns=[\"Generator\", \"Power Output\"])\n",
    "\n",
    "for g in m.G:\n",
    "    dfeachgen.loc[g, \"Generator\"] = g\n",
    "    dfeachgen.loc[g, \"Power Output\"] = m.p[g].value\n",
    "\n",
    "\n",
    "TotalEmission= dfeachgen['Power Output']*df_genData['Average Emission Rate']\n",
    "\n",
    "EM=sum(TotalEmission)* 0.000453592\n",
    "\n",
    "print('{:1f} metric ton'.format(EM))"
   ]
  },
  {
   "cell_type": "code",
   "execution_count": 13,
   "id": "f76cd66a",
   "metadata": {
    "scrolled": false
   },
   "outputs": [
    {
     "name": "stdout",
     "output_type": "stream",
     "text": [
      "SOLUTION-Average winter peak\n",
      "The total system cost is = $ 167146.42299999998\n",
      "Generation in MW\n",
      "non nuclear generator  1 = 0.00 \n",
      "non nuclear generator  2 = 0.00 \n",
      "non nuclear generator  3 = 0.00 \n",
      "non nuclear generator  4 = 0.00 \n",
      "non nuclear generator  5 = 0.00 \n",
      "non nuclear generator  6 = 0.00 \n",
      "non nuclear generator  7 = 0.00 \n",
      "non nuclear generator  8 = 0.00 \n",
      "non nuclear generator  9 = 0.00 \n",
      "non nuclear generator 10 = 0.00 \n",
      "non nuclear generator 11 = 0.00 \n",
      "non nuclear generator 12 = 0.00 \n",
      "non nuclear generator 13 = 13800.47 \n",
      "non nuclear generator 14 = 490.84 \n",
      "non nuclear generator 15 = 490.84 \n",
      "non nuclear generator 16 = 368.00 \n",
      "non nuclear generator 17 = 0.00 \n",
      "non nuclear generator 18 = 0.00 \n",
      "Flow on transmission lines in MW\n",
      "line  1 = 3347.54 \n",
      "line  2 = -606.98 \n",
      "line  3 = -2740.55 \n",
      "LMPs in $/MWh\n",
      "Node  1 = 0.00\n",
      "Node  2 = 0.00\n",
      "Node  3 = 0.00\n"
     ]
    }
   ],
   "source": [
    "print('SOLUTION-Average winter peak')\n",
    "print('The total system cost is = $',m.system_cost())\n",
    "\n",
    "print('Generation in MW')\n",
    "for g in G:\n",
    "        print(\"non nuclear generator {0:2d} = {1:.2f} \".format(g+1, m.p[g]()))\n",
    "print('Flow on transmission lines in MW')\n",
    "for l in L:\n",
    "        print(\"line {0:2d} = {1:.2f} \".format(l+1, m.flow[l]()))\n",
    "print('LMPs in $/MWh')\n",
    "for n in N:\n",
    "        print(\"Node {0:2d} = {1:.2f}\".format(n+1,m.dual[m.NodePowerBalanceConstraint[n]]))\n",
    "        \n"
   ]
  },
  {
   "cell_type": "markdown",
   "id": "4878859e",
   "metadata": {},
   "source": [
    "Average Winter off peak hour"
   ]
  },
  {
   "cell_type": "code",
   "execution_count": 14,
   "id": "9f0ac8e4",
   "metadata": {},
   "outputs": [],
   "source": [
    "#UC MODEL of Average winter off peak hour   \n",
    "def AOffPeakWinterED():\n",
    "    m=ConcreteModel()\n",
    "    #m.dual = Suffix(direction=Suffix.IMPORT_EXPORT)\n",
    "    m.dual = Suffix(direction=Suffix.IMPORT)#Create a 'dual' suffix component on the instance so the solver plugin will know which suffixes to collect\n",
    "    m.N=Set(initialize=N)\n",
    "    m.L=Set(initialize=L)\n",
    "    m.G=Set(initialize=G)\n",
    "    m.F=Set(initialize=F)\n",
    "    m.p=Var(m.G, bounds = (0,20000))#This is power generation. Could also declare as m.p=Var(m.G,within=PositiveReals)\n",
    "    m.flow=Var(m.L, bounds = (-5000,5000))#This is power flow on a line\n",
    "    m.system_cost=Objective(expr=sum(m.p[g]*VarCost[g] for g in m.G)+ sum(NVarCost[c]*NWinterPMax[c] for c in C), sense=minimize)#Objective is to minimize costs\n",
    "    m.MaxGeneration=Constraint(m.G, rule=lambda m, g:  m.p[g] <= OWinterPMax[g])\n",
    "    #Spinning reserves requirement as a fraction of 3% of net demand\n",
    "    m.SpinningReserve1=Constraint(m.F, rule=lambda m, f: sum(df_FossilFuel.MaxGen)-sum(m.p[f] for f in F)>=0.03*sum(AOffPeakWinterDemand))\n",
    "    #m.MaxEmission= Constraint(m.G, rule=lambda m, g:  sum(m.p[g]* (GEmissionRate[g])for g in m.G) <= 6000)#maybe put parameter to replace exact number\n",
    "    # refer Constraint(rule=lambda m: sum(LineReactance[l]*m.flow[l] for l in L)==0)\n",
    "   \n",
    "    m.NodePowerBalanceConstraint=Constraint(m.N, rule=lambda m, n: sum(LineToBus[l,n]*m.flow[l] for l in L)\n",
    "                                            -sum(LineFromBus[l,n]*m.flow[l] for l in L)+sum(GeneratorInBus[g,n]*m.p[g] for g in G)\n",
    "                                            +sum(NuclearInBus[c,n]*NWinterPMax[c] for c in C)\n",
    "                                            == AOffPeakWinterDemand[n])\n",
    "    m.KVLAroundLoopConstraint=Constraint(rule=lambda m: sum(LineReactance[l]*m.flow[l] for l in L)==0)#Note that in the data we defined the lines L1-2, L2-3, and L3,1 . That way the coefficient of each one in the KVL loop is positive 1.\n",
    "    m.MaxFlow=Constraint(m.L, rule=lambda m, l:  m.flow[l] <= LineCapacity[l])\n",
    "    m.MaxCounterFlow=Constraint(m.L, rule=lambda m, l:  m.flow[l] >= -LineCapacity[l])\n",
    "    return m"
   ]
  },
  {
   "cell_type": "code",
   "execution_count": 15,
   "id": "aed55958",
   "metadata": {
    "scrolled": true
   },
   "outputs": [
    {
     "name": "stdout",
     "output_type": "stream",
     "text": [
      "# ==========================================================\n",
      "# = Solver Results                                         =\n",
      "# ==========================================================\n",
      "# ----------------------------------------------------------\n",
      "#   Problem Information\n",
      "# ----------------------------------------------------------\n",
      "Problem: \n",
      "- Name: unknown\n",
      "  Lower bound: 167146.423\n",
      "  Upper bound: 167146.423\n",
      "  Number of objectives: 1\n",
      "  Number of constraints: 41\n",
      "  Number of variables: 22\n",
      "  Number of nonzeros: 196\n",
      "  Sense: minimize\n",
      "# ----------------------------------------------------------\n",
      "#   Solver Information\n",
      "# ----------------------------------------------------------\n",
      "Solver: \n",
      "- Status: ok\n",
      "  Termination condition: optimal\n",
      "  Statistics: \n",
      "    Branch and bound: \n",
      "      Number of bounded subproblems: 0\n",
      "      Number of created subproblems: 0\n",
      "  Error rc: 0\n",
      "  Time: 0.04832196235656738\n",
      "# ----------------------------------------------------------\n",
      "#   Solution Information\n",
      "# ----------------------------------------------------------\n",
      "Solution: \n",
      "- number of solutions: 0\n",
      "  number of solutions displayed: 0\n"
     ]
    }
   ],
   "source": [
    "m= AOffPeakWinterED()\n",
    "SolverFactory('glpk',executable='D:\\download\\glpk-4.65\\w64\\glpsol.exe').solve(m).write()"
   ]
  },
  {
   "cell_type": "code",
   "execution_count": 16,
   "id": "69ca5765",
   "metadata": {},
   "outputs": [
    {
     "name": "stdout",
     "output_type": "stream",
     "text": [
      "0.000000 metric ton\n"
     ]
    }
   ],
   "source": [
    "# Total emission in this hour\n",
    "# create an empty DataFrame with the appropriate column names\n",
    "dfeachgen = pd.DataFrame(columns=[\"Generator\", \"Power Output\"])\n",
    "\n",
    "for g in m.G:\n",
    "    dfeachgen.loc[g, \"Generator\"] = g\n",
    "    dfeachgen.loc[g, \"Power Output\"] = m.p[g].value\n",
    "\n",
    "\n",
    "TotalEmission= dfeachgen['Power Output']*df_genData['Average Emission Rate']\n",
    "\n",
    "EM=sum(TotalEmission)* 0.000453592\n",
    "\n",
    "print('{:1f} metric ton'.format(EM))"
   ]
  },
  {
   "cell_type": "code",
   "execution_count": 17,
   "id": "5739ba54",
   "metadata": {
    "scrolled": false
   },
   "outputs": [
    {
     "name": "stdout",
     "output_type": "stream",
     "text": [
      "SOLUTION-Average winter off peak\n",
      "The total system cost is = $ 167146.42299999998\n",
      "Generation in MW\n",
      "non nuclear generator  1 = 0.00 \n",
      "non nuclear generator  2 = 0.00 \n",
      "non nuclear generator  3 = 0.00 \n",
      "non nuclear generator  4 = 0.00 \n",
      "non nuclear generator  5 = 0.00 \n",
      "non nuclear generator  6 = 0.00 \n",
      "non nuclear generator  7 = 0.00 \n",
      "non nuclear generator  8 = 0.00 \n",
      "non nuclear generator  9 = 0.00 \n",
      "non nuclear generator 10 = 0.00 \n",
      "non nuclear generator 11 = 0.00 \n",
      "non nuclear generator 12 = 0.00 \n",
      "non nuclear generator 13 = 6721.58 \n",
      "non nuclear generator 14 = 0.00 \n",
      "non nuclear generator 15 = 0.00 \n",
      "non nuclear generator 16 = 384.00 \n",
      "non nuclear generator 17 = 0.00 \n",
      "non nuclear generator 18 = 0.00 \n",
      "Flow on transmission lines in MW\n",
      "line  1 = 2893.42 \n",
      "line  2 = -537.15 \n",
      "line  3 = -2356.28 \n",
      "LMPs in $/MWh\n",
      "Node  1 = 0.00\n",
      "Node  2 = 0.00\n",
      "Node  3 = 0.00\n"
     ]
    }
   ],
   "source": [
    "print('SOLUTION-Average winter off peak')\n",
    "print('The total system cost is = $',m.system_cost())\n",
    "\n",
    "print('Generation in MW')\n",
    "for g in G:\n",
    "        print(\"non nuclear generator {0:2d} = {1:.2f} \".format(g+1, m.p[g]()))\n",
    "print('Flow on transmission lines in MW')\n",
    "for l in L:\n",
    "        print(\"line {0:2d} = {1:.2f} \".format(l+1, m.flow[l]()))\n",
    "print('LMPs in $/MWh')\n",
    "for n in N:\n",
    "        print(\"Node {0:2d} = {1:.2f}\".format(n+1,m.dual[m.NodePowerBalanceConstraint[n]]))\n",
    "        "
   ]
  },
  {
   "cell_type": "markdown",
   "id": "725eac13",
   "metadata": {},
   "source": [
    "Average Summer peak hour"
   ]
  },
  {
   "cell_type": "code",
   "execution_count": 18,
   "id": "3178fd4d",
   "metadata": {},
   "outputs": [],
   "source": [
    "#UC MODEL of Average summer peak hour   \n",
    "def APeakSummerED():\n",
    "    m=ConcreteModel()\n",
    "    #m.dual = Suffix(direction=Suffix.IMPORT_EXPORT)\n",
    "    m.dual = Suffix(direction=Suffix.IMPORT)#Create a 'dual' suffix component on the instance so the solver plugin will know which suffixes to collect\n",
    "    m.N=Set(initialize=N)\n",
    "    m.L=Set(initialize=L)\n",
    "    m.G=Set(initialize=G)\n",
    "    m.F=Set(initialize=F)\n",
    "    m.p=Var(m.G, bounds = (0,20000))#This is power generation. Could also declare as m.p=Var(m.G,within=PositiveReals)\n",
    "    m.flow=Var(m.L, bounds = (-5000,5000))#This is power flow on a line\n",
    "    m.system_cost=Objective(expr=sum(m.p[g]*VarCost[g] for g in m.G)+ sum(NVarCost[c]*NSummerPMax[c] for c in C), sense=minimize)#Objective is to minimize costs\n",
    "    m.MaxGeneration=Constraint(m.G, rule=lambda m, g:  m.p[g] <= PSummerPMax[g])\n",
    "     #Spinning reserves requirement as a fraction of 3% of net demand\n",
    "    m.SpinningReserve1=Constraint(m.F, rule=lambda m, f: sum(df_FossilFuel.MaxGen)-sum(m.p[f] for f in F)>=0.03*sum(APeakSummerDemand))\n",
    "    #m.MaxEmission= Constraint(m.G, rule=lambda m, g:  sum(m.p[g]* (GEmissionRate[g])for g in m.G) <= 6000)#maybe put parameter to replace exact number\n",
    "    # refer Constraint(rule=lambda m: sum(LineReactance[l]*m.flow[l] for l in L)==0)\n",
    "   \n",
    "    m.NodePowerBalanceConstraint=Constraint(m.N, rule=lambda m, n: sum(LineToBus[l,n]*m.flow[l] for l in L)\n",
    "                                            -sum(LineFromBus[l,n]*m.flow[l] for l in L)+sum(GeneratorInBus[g,n]*m.p[g] for g in G)\n",
    "                                            +sum(NuclearInBus[c,n]*NSummerPMax[c] for c in C)\n",
    "                                            == APeakSummerDemand[n])\n",
    "    m.KVLAroundLoopConstraint=Constraint(rule=lambda m: sum(LineReactance[l]*m.flow[l] for l in L)==0)#Note that in the data we defined the lines L1-2, L2-3, and L3,1 . That way the coefficient of each one in the KVL loop is positive 1.\n",
    "    m.MaxFlow=Constraint(m.L, rule=lambda m, l:  m.flow[l] <= LineCapacity[l])\n",
    "    m.MaxCounterFlow=Constraint(m.L, rule=lambda m, l:  m.flow[l] >= -LineCapacity[l])\n",
    "    return m"
   ]
  },
  {
   "cell_type": "code",
   "execution_count": 19,
   "id": "bc8ff91f",
   "metadata": {
    "scrolled": false
   },
   "outputs": [
    {
     "name": "stdout",
     "output_type": "stream",
     "text": [
      "# ==========================================================\n",
      "# = Solver Results                                         =\n",
      "# ==========================================================\n",
      "# ----------------------------------------------------------\n",
      "#   Problem Information\n",
      "# ----------------------------------------------------------\n",
      "Problem: \n",
      "- Name: unknown\n",
      "  Lower bound: 232582.786661402\n",
      "  Upper bound: 232582.786661402\n",
      "  Number of objectives: 1\n",
      "  Number of constraints: 41\n",
      "  Number of variables: 22\n",
      "  Number of nonzeros: 196\n",
      "  Sense: minimize\n",
      "# ----------------------------------------------------------\n",
      "#   Solver Information\n",
      "# ----------------------------------------------------------\n",
      "Solver: \n",
      "- Status: ok\n",
      "  Termination condition: optimal\n",
      "  Statistics: \n",
      "    Branch and bound: \n",
      "      Number of bounded subproblems: 0\n",
      "      Number of created subproblems: 0\n",
      "  Error rc: 0\n",
      "  Time: 0.03609609603881836\n",
      "# ----------------------------------------------------------\n",
      "#   Solution Information\n",
      "# ----------------------------------------------------------\n",
      "Solution: \n",
      "- number of solutions: 0\n",
      "  number of solutions displayed: 0\n"
     ]
    }
   ],
   "source": [
    "m= APeakSummerED()\n",
    "SolverFactory('glpk',executable='D:\\download\\glpk-4.65\\w64\\glpsol.exe').solve(m).write()"
   ]
  },
  {
   "cell_type": "code",
   "execution_count": 20,
   "id": "6973e4f6",
   "metadata": {},
   "outputs": [
    {
     "name": "stdout",
     "output_type": "stream",
     "text": [
      "1211.648717 metric ton\n"
     ]
    }
   ],
   "source": [
    "# Total emission in this hour\n",
    "# create an empty DataFrame with the appropriate column names\n",
    "dfeachgen = pd.DataFrame(columns=[\"Generator\", \"Power Output\"])\n",
    "\n",
    "for g in m.G:\n",
    "    dfeachgen.loc[g, \"Generator\"] = g\n",
    "    dfeachgen.loc[g, \"Power Output\"] = m.p[g].value\n",
    "\n",
    "\n",
    "TotalEmission= dfeachgen['Power Output']*df_genData['Average Emission Rate']\n",
    "\n",
    "EM=sum(TotalEmission)* 0.000453592\n",
    "\n",
    "print('{:1f} metric ton'.format(EM))"
   ]
  },
  {
   "cell_type": "code",
   "execution_count": 21,
   "id": "334202c1",
   "metadata": {
    "scrolled": true
   },
   "outputs": [
    {
     "name": "stdout",
     "output_type": "stream",
     "text": [
      "SOLUTION-Average summer peak\n",
      "The total system cost is = $ 232582.78666140238\n",
      "Generation in MW\n",
      "non nuclear generator  1 = 0.00 \n",
      "non nuclear generator  2 = 697.90 \n",
      "non nuclear generator  3 = 313.36 \n",
      "non nuclear generator  4 = 0.00 \n",
      "non nuclear generator  5 = 0.00 \n",
      "non nuclear generator  6 = 0.00 \n",
      "non nuclear generator  7 = 0.00 \n",
      "non nuclear generator  8 = 0.00 \n",
      "non nuclear generator  9 = 1248.01 \n",
      "non nuclear generator 10 = 730.00 \n",
      "non nuclear generator 11 = 0.00 \n",
      "non nuclear generator 12 = 0.00 \n",
      "non nuclear generator 13 = 17233.14 \n",
      "non nuclear generator 14 = 504.88 \n",
      "non nuclear generator 15 = 504.88 \n",
      "non nuclear generator 16 = 1020.00 \n",
      "non nuclear generator 17 = 0.00 \n",
      "non nuclear generator 18 = 0.00 \n",
      "Flow on transmission lines in MW\n",
      "line  1 = 5000.00 \n",
      "line  2 = -888.38 \n",
      "line  3 = -4111.62 \n",
      "LMPs in $/MWh\n",
      "Node  1 = 22.00\n",
      "Node  2 = 24.00\n",
      "Node  3 = 23.00\n"
     ]
    }
   ],
   "source": [
    "print('SOLUTION-Average summer peak')\n",
    "print('The total system cost is = $',m.system_cost())\n",
    "\n",
    "print('Generation in MW')\n",
    "for g in G:\n",
    "        print(\"non nuclear generator {0:2d} = {1:.2f} \".format(g+1, m.p[g]()))\n",
    "print('Flow on transmission lines in MW')\n",
    "for l in L:\n",
    "        print(\"line {0:2d} = {1:.2f} \".format(l+1, m.flow[l]()))\n",
    "print('LMPs in $/MWh')\n",
    "for n in N:\n",
    "        print(\"Node {0:2d} = {1:.2f}\".format(n+1,m.dual[m.NodePowerBalanceConstraint[n]]))\n",
    "        "
   ]
  },
  {
   "cell_type": "markdown",
   "id": "6454b2cc",
   "metadata": {},
   "source": [
    "Average Summer off peak hour"
   ]
  },
  {
   "cell_type": "code",
   "execution_count": 22,
   "id": "2539eb9c",
   "metadata": {},
   "outputs": [],
   "source": [
    "#UC MODEL of Average summer off peak hour   \n",
    "def AOffPeakSummerED():\n",
    "    m=ConcreteModel()\n",
    "    #m.dual = Suffix(direction=Suffix.IMPORT_EXPORT)\n",
    "    m.dual = Suffix(direction=Suffix.IMPORT)#Create a 'dual' suffix component on the instance so the solver plugin will know which suffixes to collect\n",
    "    m.N=Set(initialize=N)\n",
    "    m.L=Set(initialize=L)\n",
    "    m.G=Set(initialize=G)\n",
    "    m.F=Set(initialize=F)\n",
    "    m.p=Var(m.G, bounds = (0,20000))#This is power generation. Could also declare as m.p=Var(m.G,within=PositiveReals)\n",
    "    m.flow=Var(m.L, bounds = (-5000,5000))#This is power flow on a line\n",
    "    m.system_cost=Objective(expr=sum(m.p[g]*VarCost[g] for g in m.G)+ sum(NVarCost[c]*NSummerPMax[c] for c in C), sense=minimize)#Objective is to minimize costs\n",
    "    m.MaxGeneration=Constraint(m.G, rule=lambda m, g:  m.p[g] <= OSummerPMax[g])\n",
    "     #Spinning reserves requirement as a fraction of 3% of net demand\n",
    "    m.SpinningReserve1=Constraint(m.F, rule=lambda m, f: sum(df_FossilFuel.MaxGen)-sum(m.p[f] for f in F)>=0.03*sum(AOffPeakSummerDemand))\n",
    "    #m.MaxEmission= Constraint(m.G, rule=lambda m, g:  sum(m.p[g]* (GEmissionRate[g])for g in m.G) <= 6000)#maybe put parameter to replace exact number\n",
    "    # refer Constraint(rule=lambda m: sum(LineReactance[l]*m.flow[l] for l in L)==0)\n",
    "   \n",
    "    m.NodePowerBalanceConstraint=Constraint(m.N, rule=lambda m, n: sum(LineToBus[l,n]*m.flow[l] for l in L)\n",
    "                                            -sum(LineFromBus[l,n]*m.flow[l] for l in L)+sum(GeneratorInBus[g,n]*m.p[g] for g in G)\n",
    "                                            +sum(NuclearInBus[c,n]*NSummerPMax[c] for c in C)\n",
    "                                            == AOffPeakSummerDemand[n])\n",
    "    m.KVLAroundLoopConstraint=Constraint(rule=lambda m: sum(LineReactance[l]*m.flow[l] for l in L)==0)#Note that in the data we defined the lines L1-2, L2-3, and L3,1 . That way the coefficient of each one in the KVL loop is positive 1.\n",
    "    m.MaxFlow=Constraint(m.L, rule=lambda m, l:  m.flow[l] <= LineCapacity[l])\n",
    "    m.MaxCounterFlow=Constraint(m.L, rule=lambda m, l:  m.flow[l] >= -LineCapacity[l])\n",
    "    return m"
   ]
  },
  {
   "cell_type": "code",
   "execution_count": 23,
   "id": "370c64f2",
   "metadata": {
    "scrolled": true
   },
   "outputs": [
    {
     "name": "stdout",
     "output_type": "stream",
     "text": [
      "# ==========================================================\n",
      "# = Solver Results                                         =\n",
      "# ==========================================================\n",
      "# ----------------------------------------------------------\n",
      "#   Problem Information\n",
      "# ----------------------------------------------------------\n",
      "Problem: \n",
      "- Name: unknown\n",
      "  Lower bound: 167146.423\n",
      "  Upper bound: 167146.423\n",
      "  Number of objectives: 1\n",
      "  Number of constraints: 41\n",
      "  Number of variables: 22\n",
      "  Number of nonzeros: 196\n",
      "  Sense: minimize\n",
      "# ----------------------------------------------------------\n",
      "#   Solver Information\n",
      "# ----------------------------------------------------------\n",
      "Solver: \n",
      "- Status: ok\n",
      "  Termination condition: optimal\n",
      "  Statistics: \n",
      "    Branch and bound: \n",
      "      Number of bounded subproblems: 0\n",
      "      Number of created subproblems: 0\n",
      "  Error rc: 0\n",
      "  Time: 0.048392534255981445\n",
      "# ----------------------------------------------------------\n",
      "#   Solution Information\n",
      "# ----------------------------------------------------------\n",
      "Solution: \n",
      "- number of solutions: 0\n",
      "  number of solutions displayed: 0\n"
     ]
    }
   ],
   "source": [
    "m= AOffPeakSummerED()\n",
    "SolverFactory('glpk',executable='D:\\download\\glpk-4.65\\w64\\glpsol.exe').solve(m).write()"
   ]
  },
  {
   "cell_type": "code",
   "execution_count": 24,
   "id": "0ea505df",
   "metadata": {},
   "outputs": [
    {
     "name": "stdout",
     "output_type": "stream",
     "text": [
      "0.000000 metric ton\n"
     ]
    }
   ],
   "source": [
    "# Total emission in this hour\n",
    "# create an empty DataFrame with the appropriate column names\n",
    "dfeachgen = pd.DataFrame(columns=[\"Generator\", \"Power Output\"])\n",
    "\n",
    "for g in m.G:\n",
    "    dfeachgen.loc[g, \"Generator\"] = g\n",
    "    dfeachgen.loc[g, \"Power Output\"] = m.p[g].value\n",
    "\n",
    "\n",
    "TotalEmission= dfeachgen['Power Output']*df_genData['Average Emission Rate']\n",
    "\n",
    "EM=sum(TotalEmission)* 0.000453592\n",
    "\n",
    "print('{:1f} metric ton'.format(EM))"
   ]
  },
  {
   "cell_type": "code",
   "execution_count": 25,
   "id": "40773ae1",
   "metadata": {
    "scrolled": false
   },
   "outputs": [
    {
     "name": "stdout",
     "output_type": "stream",
     "text": [
      "SOLUTION-Average summer off peak\n",
      "The total system cost is = $ 167146.42299999998\n",
      "Generation in MW\n",
      "non nuclear generator  1 = 0.00 \n",
      "non nuclear generator  2 = 0.00 \n",
      "non nuclear generator  3 = 0.00 \n",
      "non nuclear generator  4 = 0.00 \n",
      "non nuclear generator  5 = 0.00 \n",
      "non nuclear generator  6 = 0.00 \n",
      "non nuclear generator  7 = 0.00 \n",
      "non nuclear generator  8 = 0.00 \n",
      "non nuclear generator  9 = 0.00 \n",
      "non nuclear generator 10 = 0.00 \n",
      "non nuclear generator 11 = 0.00 \n",
      "non nuclear generator 12 = 0.00 \n",
      "non nuclear generator 13 = 10357.27 \n",
      "non nuclear generator 14 = 0.00 \n",
      "non nuclear generator 15 = 0.00 \n",
      "non nuclear generator 16 = 1231.00 \n",
      "non nuclear generator 17 = 0.00 \n",
      "non nuclear generator 18 = 0.00 \n",
      "Flow on transmission lines in MW\n",
      "line  1 = 4478.87 \n",
      "line  2 = -968.90 \n",
      "line  3 = -3509.97 \n",
      "LMPs in $/MWh\n",
      "Node  1 = 0.00\n",
      "Node  2 = 0.00\n",
      "Node  3 = 0.00\n"
     ]
    }
   ],
   "source": [
    "print('SOLUTION-Average summer off peak')\n",
    "print('The total system cost is = $',m.system_cost())\n",
    "\n",
    "print('Generation in MW')\n",
    "for g in G:\n",
    "        print(\"non nuclear generator {0:2d} = {1:.2f} \".format(g+1, m.p[g]()))\n",
    "print('Flow on transmission lines in MW')\n",
    "for l in L:\n",
    "        print(\"line {0:2d} = {1:.2f} \".format(l+1, m.flow[l]()))\n",
    "print('LMPs in $/MWh')\n",
    "for n in N:\n",
    "        print(\"Node {0:2d} = {1:.2f}\".format(n+1,m.dual[m.NodePowerBalanceConstraint[n]]))"
   ]
  },
  {
   "cell_type": "markdown",
   "id": "e23274b9",
   "metadata": {},
   "source": [
    "# Average Fall peak hour"
   ]
  },
  {
   "cell_type": "code",
   "execution_count": 26,
   "id": "b9196135",
   "metadata": {},
   "outputs": [],
   "source": [
    "#UC MODEL of Average Fall peak hour   \n",
    "def APeakFallED():\n",
    "    m=ConcreteModel()\n",
    "    #m.dual = Suffix(direction=Suffix.IMPORT_EXPORT)\n",
    "    m.dual = Suffix(direction=Suffix.IMPORT)#Create a 'dual' suffix component on the instance so the solver plugin will know which suffixes to collect\n",
    "    m.N=Set(initialize=N)\n",
    "    m.L=Set(initialize=L)\n",
    "    m.G=Set(initialize=G)\n",
    "    m.F=Set(initialize=F)\n",
    "    m.p=Var(m.G, bounds = (0,20000))#This is power generation. Could also declare as m.p=Var(m.G,within=PositiveReals)\n",
    "    m.flow=Var(m.L, bounds = (-5000,5000))#This is power flow on a line\n",
    "    m.system_cost=Objective(expr=sum(m.p[g]*VarCost[g] for g in m.G)+ sum(NVarCost[c]*NFallPMax[c] for c in C), sense=minimize)#Objective is to minimize costs\n",
    "    m.MaxGeneration=Constraint(m.G, rule=lambda m, g:  m.p[g] <= PFallPMax[g])\n",
    "     #Spinning reserves requirement as a fraction of 3% of net demand\n",
    "    m.SpinningReserve1=Constraint(m.F, rule=lambda m, f: sum(df_FossilFuel.MaxGen)-sum(m.p[f] for f in F)>=0.03*sum(APeakFallDemand))\n",
    "    #m.MaxEmission= Constraint(m.G, rule=lambda m, g:  sum(m.p[g]* (GEmissionRate[g])for g in m.G) <= 6000)#maybe put parameter to replace exact number\n",
    "    # refer Constraint(rule=lambda m: sum(LineReactance[l]*m.flow[l] for l in L)==0)\n",
    "   \n",
    "    m.NodePowerBalanceConstraint=Constraint(m.N, rule=lambda m, n: sum(LineToBus[l,n]*m.flow[l] for l in L)\n",
    "                                            -sum(LineFromBus[l,n]*m.flow[l] for l in L)+sum(GeneratorInBus[g,n]*m.p[g] for g in G)\n",
    "                                            +sum(NuclearInBus[c,n]*NFallPMax[c] for c in C)\n",
    "                                            == APeakFallDemand[n])\n",
    "    m.KVLAroundLoopConstraint=Constraint(rule=lambda m: sum(LineReactance[l]*m.flow[l] for l in L)==0)#Note that in the data we defined the lines L1-2, L2-3, and L3,1 . That way the coefficient of each one in the KVL loop is positive 1.\n",
    "    m.MaxFlow=Constraint(m.L, rule=lambda m, l:  m.flow[l] <= LineCapacity[l])\n",
    "    m.MaxCounterFlow=Constraint(m.L, rule=lambda m, l:  m.flow[l] >= -LineCapacity[l])\n",
    "    return m"
   ]
  },
  {
   "cell_type": "code",
   "execution_count": 27,
   "id": "fc9bce52",
   "metadata": {
    "scrolled": true
   },
   "outputs": [
    {
     "name": "stdout",
     "output_type": "stream",
     "text": [
      "# ==========================================================\n",
      "# = Solver Results                                         =\n",
      "# ==========================================================\n",
      "# ----------------------------------------------------------\n",
      "#   Problem Information\n",
      "# ----------------------------------------------------------\n",
      "Problem: \n",
      "- Name: unknown\n",
      "  Lower bound: 168514.62576777\n",
      "  Upper bound: 168514.62576777\n",
      "  Number of objectives: 1\n",
      "  Number of constraints: 41\n",
      "  Number of variables: 22\n",
      "  Number of nonzeros: 196\n",
      "  Sense: minimize\n",
      "# ----------------------------------------------------------\n",
      "#   Solver Information\n",
      "# ----------------------------------------------------------\n",
      "Solver: \n",
      "- Status: ok\n",
      "  Termination condition: optimal\n",
      "  Statistics: \n",
      "    Branch and bound: \n",
      "      Number of bounded subproblems: 0\n",
      "      Number of created subproblems: 0\n",
      "  Error rc: 0\n",
      "  Time: 0.04678964614868164\n",
      "# ----------------------------------------------------------\n",
      "#   Solution Information\n",
      "# ----------------------------------------------------------\n",
      "Solution: \n",
      "- number of solutions: 0\n",
      "  number of solutions displayed: 0\n"
     ]
    }
   ],
   "source": [
    "m= APeakFallED()\n",
    "SolverFactory('glpk',executable='D:\\download\\glpk-4.65\\w64\\glpsol.exe').solve(m).write()"
   ]
  },
  {
   "cell_type": "code",
   "execution_count": 28,
   "id": "52ca5ba4",
   "metadata": {},
   "outputs": [
    {
     "name": "stdout",
     "output_type": "stream",
     "text": [
      "26.731453 metric ton\n"
     ]
    }
   ],
   "source": [
    "# Total emission in this hour\n",
    "# create an empty DataFrame with the appropriate column names\n",
    "dfeachgen = pd.DataFrame(columns=[\"Generator\", \"Power Output\"])\n",
    "\n",
    "for g in m.G:\n",
    "    dfeachgen.loc[g, \"Generator\"] = g\n",
    "    dfeachgen.loc[g, \"Power Output\"] = m.p[g].value\n",
    "\n",
    "\n",
    "TotalEmission= dfeachgen['Power Output']*df_genData['Average Emission Rate']\n",
    "\n",
    "EM=sum(TotalEmission)* 0.000453592\n",
    "\n",
    "print('{:1f} metric ton'.format(EM))"
   ]
  },
  {
   "cell_type": "code",
   "execution_count": 29,
   "id": "1faa5e3f",
   "metadata": {
    "scrolled": false
   },
   "outputs": [
    {
     "name": "stdout",
     "output_type": "stream",
     "text": [
      "SOLUTION-Average Fall peak\n",
      "The total system cost is = $ 168514.6257677696\n",
      "Generation in MW\n",
      "non nuclear generator  1 = 0.00 \n",
      "non nuclear generator  2 = 72.01 \n",
      "non nuclear generator  3 = 0.00 \n",
      "non nuclear generator  4 = 0.00 \n",
      "non nuclear generator  5 = 0.00 \n",
      "non nuclear generator  6 = 0.00 \n",
      "non nuclear generator  7 = 0.00 \n",
      "non nuclear generator  8 = 0.00 \n",
      "non nuclear generator  9 = 0.00 \n",
      "non nuclear generator 10 = 0.00 \n",
      "non nuclear generator 11 = 0.00 \n",
      "non nuclear generator 12 = 0.00 \n",
      "non nuclear generator 13 = 15013.76 \n",
      "non nuclear generator 14 = 439.86 \n",
      "non nuclear generator 15 = 439.86 \n",
      "non nuclear generator 16 = 676.00 \n",
      "non nuclear generator 17 = 0.00 \n",
      "non nuclear generator 18 = 0.00 \n",
      "Flow on transmission lines in MW\n",
      "line  1 = 3917.24 \n",
      "line  2 = -759.36 \n",
      "line  3 = -3157.88 \n",
      "LMPs in $/MWh\n",
      "Node  1 = 19.00\n",
      "Node  2 = 19.00\n",
      "Node  3 = 19.00\n"
     ]
    }
   ],
   "source": [
    "print('SOLUTION-Average Fall peak')\n",
    "print('The total system cost is = $',m.system_cost())\n",
    "\n",
    "print('Generation in MW')\n",
    "for g in G:\n",
    "        print(\"non nuclear generator {0:2d} = {1:.2f} \".format(g+1, m.p[g]()))\n",
    "print('Flow on transmission lines in MW')\n",
    "for l in L:\n",
    "        print(\"line {0:2d} = {1:.2f} \".format(l+1, m.flow[l]()))\n",
    "print('LMPs in $/MWh')\n",
    "for n in N:\n",
    "        print(\"Node {0:2d} = {1:.2f}\".format(n+1,m.dual[m.NodePowerBalanceConstraint[n]]))"
   ]
  },
  {
   "cell_type": "markdown",
   "id": "36e69316",
   "metadata": {},
   "source": [
    "Average Fall off peak hour"
   ]
  },
  {
   "cell_type": "code",
   "execution_count": 30,
   "id": "25541fe4",
   "metadata": {},
   "outputs": [],
   "source": [
    "#UC MODEL of Average Fall off peak hour   \n",
    "def AOffPeakFallED():\n",
    "    m=ConcreteModel()\n",
    "    #m.dual = Suffix(direction=Suffix.IMPORT_EXPORT)\n",
    "    m.dual = Suffix(direction=Suffix.IMPORT)#Create a 'dual' suffix component on the instance so the solver plugin will know which suffixes to collect\n",
    "    m.N=Set(initialize=N)\n",
    "    m.L=Set(initialize=L)\n",
    "    m.G=Set(initialize=G)\n",
    "    m.F=Set(initialize=F)\n",
    "    m.p=Var(m.G, bounds = (0,20000))#This is power generation. Could also declare as m.p=Var(m.G,within=PositiveReals)\n",
    "    m.flow=Var(m.L, bounds = (-5000,5000))#This is power flow on a line\n",
    "    m.system_cost=Objective(expr=sum(m.p[g]*VarCost[g] for g in m.G)+ sum(NVarCost[c]*NFallPMax[c] for c in C), sense=minimize)#Objective is to minimize costs\n",
    "    m.MaxGeneration=Constraint(m.G, rule=lambda m, g:  m.p[g] <= OFallPMax[g])\n",
    "     #Spinning reserves requirement as a fraction of 3% of net demand\n",
    "    m.SpinningReserve1=Constraint(m.F, rule=lambda m, f: sum(df_FossilFuel.MaxGen)-sum(m.p[f] for f in F)>=0.03*sum(AOffPeakFallDemand))\n",
    "    #m.MaxEmission= Constraint(m.G, rule=lambda m, g:  sum(m.p[g]* (GEmissionRate[g])for g in m.G) <= 6000)#maybe put parameter to replace exact number\n",
    "    # refer Constraint(rule=lambda m: sum(LineReactance[l]*m.flow[l] for l in L)==0)\n",
    "   \n",
    "    m.NodePowerBalanceConstraint=Constraint(m.N, rule=lambda m, n: sum(LineToBus[l,n]*m.flow[l] for l in L)\n",
    "                                            -sum(LineFromBus[l,n]*m.flow[l] for l in L)+sum(GeneratorInBus[g,n]*m.p[g] for g in G)\n",
    "                                            +sum(NuclearInBus[c,n]*NFallPMax[c] for c in C)\n",
    "                                            == AOffPeakFallDemand[n])\n",
    "    m.KVLAroundLoopConstraint=Constraint(rule=lambda m: sum(LineReactance[l]*m.flow[l] for l in L)==0)#Note that in the data we defined the lines L1-2, L2-3, and L3,1 . That way the coefficient of each one in the KVL loop is positive 1.\n",
    "    m.MaxFlow=Constraint(m.L, rule=lambda m, l:  m.flow[l] <= LineCapacity[l])\n",
    "    m.MaxCounterFlow=Constraint(m.L, rule=lambda m, l:  m.flow[l] >= -LineCapacity[l])\n",
    "    return m"
   ]
  },
  {
   "cell_type": "code",
   "execution_count": 31,
   "id": "b184c6ca",
   "metadata": {
    "scrolled": true
   },
   "outputs": [
    {
     "name": "stdout",
     "output_type": "stream",
     "text": [
      "# ==========================================================\n",
      "# = Solver Results                                         =\n",
      "# ==========================================================\n",
      "# ----------------------------------------------------------\n",
      "#   Problem Information\n",
      "# ----------------------------------------------------------\n",
      "Problem: \n",
      "- Name: unknown\n",
      "  Lower bound: 167146.423\n",
      "  Upper bound: 167146.423\n",
      "  Number of objectives: 1\n",
      "  Number of constraints: 41\n",
      "  Number of variables: 22\n",
      "  Number of nonzeros: 196\n",
      "  Sense: minimize\n",
      "# ----------------------------------------------------------\n",
      "#   Solver Information\n",
      "# ----------------------------------------------------------\n",
      "Solver: \n",
      "- Status: ok\n",
      "  Termination condition: optimal\n",
      "  Statistics: \n",
      "    Branch and bound: \n",
      "      Number of bounded subproblems: 0\n",
      "      Number of created subproblems: 0\n",
      "  Error rc: 0\n",
      "  Time: 0.03807353973388672\n",
      "# ----------------------------------------------------------\n",
      "#   Solution Information\n",
      "# ----------------------------------------------------------\n",
      "Solution: \n",
      "- number of solutions: 0\n",
      "  number of solutions displayed: 0\n"
     ]
    }
   ],
   "source": [
    "m= AOffPeakFallED()\n",
    "SolverFactory('glpk',executable='D:\\download\\glpk-4.65\\w64\\glpsol.exe').solve(m).write()"
   ]
  },
  {
   "cell_type": "code",
   "execution_count": 32,
   "id": "a0def6ab",
   "metadata": {},
   "outputs": [
    {
     "name": "stdout",
     "output_type": "stream",
     "text": [
      "0.000000 metric ton\n"
     ]
    }
   ],
   "source": [
    "# Total emission in this hour\n",
    "# create an empty DataFrame with the appropriate column names\n",
    "dfeachgen = pd.DataFrame(columns=[\"Generator\", \"Power Output\"])\n",
    "\n",
    "for g in m.G:\n",
    "    dfeachgen.loc[g, \"Generator\"] = g\n",
    "    dfeachgen.loc[g, \"Power Output\"] = m.p[g].value\n",
    "\n",
    "\n",
    "TotalEmission= dfeachgen['Power Output']*df_genData['Average Emission Rate']\n",
    "\n",
    "EM=sum(TotalEmission)* 0.000453592\n",
    "\n",
    "print('{:1f} metric ton'.format(EM))"
   ]
  },
  {
   "cell_type": "code",
   "execution_count": 33,
   "id": "9b69b4cb",
   "metadata": {
    "scrolled": false
   },
   "outputs": [
    {
     "name": "stdout",
     "output_type": "stream",
     "text": [
      "SOLUTION-Average Fall off peak\n",
      "The total system cost is = $ 167146.42299999998\n",
      "Generation in MW\n",
      "non nuclear generator  1 = 0.00 \n",
      "non nuclear generator  2 = 0.00 \n",
      "non nuclear generator  3 = 0.00 \n",
      "non nuclear generator  4 = 0.00 \n",
      "non nuclear generator  5 = 0.00 \n",
      "non nuclear generator  6 = 0.00 \n",
      "non nuclear generator  7 = 0.00 \n",
      "non nuclear generator  8 = 0.00 \n",
      "non nuclear generator  9 = 0.00 \n",
      "non nuclear generator 10 = 0.00 \n",
      "non nuclear generator 11 = 0.00 \n",
      "non nuclear generator 12 = 0.00 \n",
      "non nuclear generator 13 = 8826.20 \n",
      "non nuclear generator 14 = 0.00 \n",
      "non nuclear generator 15 = 0.00 \n",
      "non nuclear generator 16 = 710.00 \n",
      "non nuclear generator 17 = 0.00 \n",
      "non nuclear generator 18 = 0.00 \n",
      "Flow on transmission lines in MW\n",
      "line  1 = 3797.51 \n",
      "line  2 = -726.83 \n",
      "line  3 = -3070.68 \n",
      "LMPs in $/MWh\n",
      "Node  1 = 0.00\n",
      "Node  2 = 0.00\n",
      "Node  3 = 0.00\n"
     ]
    }
   ],
   "source": [
    "print('SOLUTION-Average Fall off peak')\n",
    "print('The total system cost is = $',m.system_cost())\n",
    "\n",
    "print('Generation in MW')\n",
    "for g in G:\n",
    "        print(\"non nuclear generator {0:2d} = {1:.2f} \".format(g+1, m.p[g]()))\n",
    "print('Flow on transmission lines in MW')\n",
    "for l in L:\n",
    "        print(\"line {0:2d} = {1:.2f} \".format(l+1, m.flow[l]()))\n",
    "print('LMPs in $/MWh')\n",
    "for n in N:\n",
    "        print(\"Node {0:2d} = {1:.2f}\".format(n+1,m.dual[m.NodePowerBalanceConstraint[n]]))"
   ]
  },
  {
   "cell_type": "code",
   "execution_count": 34,
   "id": "f0303fab",
   "metadata": {},
   "outputs": [],
   "source": [
    "#UC MODEL of Average Spring peak hour   \n",
    "def APeakSpringED():\n",
    "    m=ConcreteModel()\n",
    "    #m.dual = Suffix(direction=Suffix.IMPORT_EXPORT)\n",
    "    m.dual = Suffix(direction=Suffix.IMPORT)#Create a 'dual' suffix component on the instance so the solver plugin will know which suffixes to collect\n",
    "    m.N=Set(initialize=N)\n",
    "    m.L=Set(initialize=L)\n",
    "    m.G=Set(initialize=G)\n",
    "    m.F=Set(initialize=F)\n",
    "    m.p=Var(m.G, bounds = (0,20000))#This is power generation. Could also declare as m.p=Var(m.G,within=PositiveReals)\n",
    "    m.flow=Var(m.L, bounds = (-5000,5000))#This is power flow on a line\n",
    "    m.system_cost=Objective(expr=sum(m.p[g]*VarCost[g] for g in m.G)+ sum(NVarCost[c]*NSpringPMax[c] for c in C), sense=minimize)#Objective is to minimize costs\n",
    "    m.MaxGeneration=Constraint(m.G, rule=lambda m, g:  m.p[g] <= PSpringPMax[g])\n",
    "     #Spinning reserves requirement as a fraction of 3% of net demand\n",
    "    m.SpinningReserve1=Constraint(m.F, rule=lambda m, f: sum(df_FossilFuel.MaxGen)-sum(m.p[f] for f in F)>=0.03*sum(APeakSpringDemand))\n",
    "    #m.MaxEmission= Constraint(m.G, rule=lambda m, g:  sum(m.p[g]* (GEmissionRate[g])for g in m.G) <= 6000)#maybe put parameter to replace exact number\n",
    "    # refer Constraint(rule=lambda m: sum(LineReactance[l]*m.flow[l] for l in L)==0)\n",
    "   \n",
    "    m.NodePowerBalanceConstraint=Constraint(m.N, rule=lambda m, n: sum(LineToBus[l,n]*m.flow[l] for l in L)\n",
    "                                            -sum(LineFromBus[l,n]*m.flow[l] for l in L)+sum(GeneratorInBus[g,n]*m.p[g] for g in G)\n",
    "                                            +sum(NuclearInBus[c,n]*NSpringPMax[c] for c in C)\n",
    "                                            == APeakSpringDemand[n])\n",
    "    m.KVLAroundLoopConstraint=Constraint(rule=lambda m: sum(LineReactance[l]*m.flow[l] for l in L)==0)#Note that in the data we defined the lines L1-2, L2-3, and L3,1 . That way the coefficient of each one in the KVL loop is positive 1.\n",
    "    m.MaxFlow=Constraint(m.L, rule=lambda m, l:  m.flow[l] <= LineCapacity[l])\n",
    "    m.MaxCounterFlow=Constraint(m.L, rule=lambda m, l:  m.flow[l] >= -LineCapacity[l])\n",
    "    return m"
   ]
  },
  {
   "cell_type": "code",
   "execution_count": 35,
   "id": "32a3b983",
   "metadata": {
    "scrolled": true
   },
   "outputs": [
    {
     "name": "stdout",
     "output_type": "stream",
     "text": [
      "# ==========================================================\n",
      "# = Solver Results                                         =\n",
      "# ==========================================================\n",
      "# ----------------------------------------------------------\n",
      "#   Problem Information\n",
      "# ----------------------------------------------------------\n",
      "Problem: \n",
      "- Name: unknown\n",
      "  Lower bound: 107743.092901691\n",
      "  Upper bound: 107743.092901691\n",
      "  Number of objectives: 1\n",
      "  Number of constraints: 41\n",
      "  Number of variables: 22\n",
      "  Number of nonzeros: 196\n",
      "  Sense: minimize\n",
      "# ----------------------------------------------------------\n",
      "#   Solver Information\n",
      "# ----------------------------------------------------------\n",
      "Solver: \n",
      "- Status: ok\n",
      "  Termination condition: optimal\n",
      "  Statistics: \n",
      "    Branch and bound: \n",
      "      Number of bounded subproblems: 0\n",
      "      Number of created subproblems: 0\n",
      "  Error rc: 0\n",
      "  Time: 0.05730032920837402\n",
      "# ----------------------------------------------------------\n",
      "#   Solution Information\n",
      "# ----------------------------------------------------------\n",
      "Solution: \n",
      "- number of solutions: 0\n",
      "  number of solutions displayed: 0\n"
     ]
    }
   ],
   "source": [
    "m= APeakSpringED()\n",
    "SolverFactory('glpk',executable='D:\\download\\glpk-4.65\\w64\\glpsol.exe').solve(m).write()"
   ]
  },
  {
   "cell_type": "code",
   "execution_count": 36,
   "id": "d67a60ae",
   "metadata": {},
   "outputs": [
    {
     "name": "stdout",
     "output_type": "stream",
     "text": [
      "449.026093 metric ton\n"
     ]
    }
   ],
   "source": [
    "# Total emission in this hour\n",
    "# create an empty DataFrame with the appropriate column names\n",
    "dfeachgen = pd.DataFrame(columns=[\"Generator\", \"Power Output\"])\n",
    "\n",
    "for g in m.G:\n",
    "    dfeachgen.loc[g, \"Generator\"] = g\n",
    "    dfeachgen.loc[g, \"Power Output\"] = m.p[g].value\n",
    "\n",
    "\n",
    "TotalEmission= dfeachgen['Power Output']*df_genData['Average Emission Rate']\n",
    "\n",
    "EM=sum(TotalEmission)* 0.000453592\n",
    "\n",
    "print('{:1f} metric ton'.format(EM))"
   ]
  },
  {
   "cell_type": "code",
   "execution_count": 37,
   "id": "cde13ab0",
   "metadata": {},
   "outputs": [
    {
     "name": "stdout",
     "output_type": "stream",
     "text": [
      "SOLUTION-Average Spring peak\n",
      "The total system cost is = $ 107743.09290169086\n",
      "Generation in MW\n",
      "non nuclear generator  1 = 0.00 \n",
      "non nuclear generator  2 = 0.00 \n",
      "non nuclear generator  3 = 0.00 \n",
      "non nuclear generator  4 = 0.00 \n",
      "non nuclear generator  5 = 0.00 \n",
      "non nuclear generator  6 = 0.00 \n",
      "non nuclear generator  7 = 0.00 \n",
      "non nuclear generator  8 = 0.00 \n",
      "non nuclear generator  9 = 1007.08 \n",
      "non nuclear generator 10 = 0.00 \n",
      "non nuclear generator 11 = 0.00 \n",
      "non nuclear generator 12 = 0.00 \n",
      "non nuclear generator 13 = 18401.68 \n",
      "non nuclear generator 14 = 559.68 \n",
      "non nuclear generator 15 = 559.68 \n",
      "non nuclear generator 16 = 715.00 \n",
      "non nuclear generator 17 = 0.00 \n",
      "non nuclear generator 18 = 0.00 \n",
      "Flow on transmission lines in MW\n",
      "line  1 = 5000.00 \n",
      "line  2 = -503.91 \n",
      "line  3 = -4496.09 \n",
      "LMPs in $/MWh\n",
      "Node  1 = 0.00\n",
      "Node  2 = 24.00\n",
      "Node  3 = 12.00\n"
     ]
    }
   ],
   "source": [
    "print('SOLUTION-Average Spring peak')\n",
    "print('The total system cost is = $',m.system_cost())\n",
    "\n",
    "print('Generation in MW')\n",
    "for g in G:\n",
    "        print(\"non nuclear generator {0:2d} = {1:.2f} \".format(g+1, m.p[g]()))\n",
    "print('Flow on transmission lines in MW')\n",
    "for l in L:\n",
    "        print(\"line {0:2d} = {1:.2f} \".format(l+1, m.flow[l]()))\n",
    "print('LMPs in $/MWh')\n",
    "for n in N:\n",
    "        print(\"Node {0:2d} = {1:.2f}\".format(n+1,m.dual[m.NodePowerBalanceConstraint[n]]))"
   ]
  },
  {
   "cell_type": "markdown",
   "id": "44f4e5f6",
   "metadata": {},
   "source": [
    "Average Spring off peak hour"
   ]
  },
  {
   "cell_type": "code",
   "execution_count": 42,
   "id": "b191dccd",
   "metadata": {},
   "outputs": [],
   "source": [
    "#UC MODEL of Average Spring off peak hour   \n",
    "def AOffPeakSpringED():\n",
    "    m=ConcreteModel()\n",
    "    #m.dual = Suffix(direction=Suffix.IMPORT_EXPORT)\n",
    "    m.dual = Suffix(direction=Suffix.IMPORT)#Create a 'dual' suffix component on the instance so the solver plugin will know which suffixes to collect\n",
    "    m.N=Set(initialize=N)\n",
    "    m.L=Set(initialize=L)\n",
    "    m.G=Set(initialize=G)\n",
    "    m.F=Set(initialize=F)\n",
    "    m.p=Var(m.G, bounds = (0,20000))#This is power generation. Could also declare as m.p=Var(m.G,within=PositiveReals)\n",
    "    m.flow=Var(m.L, bounds = (-5000,5000))#This is power flow on a line\n",
    "    m.system_cost=Objective(expr=sum(m.p[g]*VarCost[g] for g in m.G)+ sum(NVarCost[c]*NSpringPMax[c] for c in C), sense=minimize)#Objective is to minimize costs\n",
    "    m.MaxGeneration=Constraint(m.G, rule=lambda m, g:  m.p[g] <= OSpringPMax[g])\n",
    "     #Spinning reserves requirement as a fraction of 3% of net demand\n",
    "    m.SpinningReserve1=Constraint(m.F, rule=lambda m, f: sum(df_FossilFuel.MaxGen)-sum(m.p[f] for f in F)>=0.03*sum(AOffPeakSpringDemand))\n",
    "    #m.MaxEmission= Constraint(m.G, rule=lambda m, g:  sum(m.p[g]* (GEmissionRate[g])for g in m.G) <= 2000)#maybe put parameter to replace exact number\n",
    "    # refer Constraint(rule=lambda m: sum(LineReactance[l]*m.flow[l] for l in L)==0)\n",
    "   \n",
    "    m.NodePowerBalanceConstraint=Constraint(m.N, rule=lambda m, n: sum(LineToBus[l,n]*m.flow[l] for l in L)\n",
    "                                            -sum(LineFromBus[l,n]*m.flow[l] for l in L)+sum(GeneratorInBus[g,n]*m.p[g] for g in G)\n",
    "                                            +sum(NuclearInBus[c,n]*NSpringPMax[c] for c in C)\n",
    "                                            == AOffPeakSpringDemand[n])\n",
    "    m.KVLAroundLoopConstraint=Constraint(rule=lambda m: sum(LineReactance[l]*m.flow[l] for l in L)==0)#Note that in the data we defined the lines L1-2, L2-3, and L3,1 . That way the coefficient of each one in the KVL loop is positive 1.\n",
    "    m.MaxFlow=Constraint(m.L, rule=lambda m, l:  m.flow[l] <= LineCapacity[l])\n",
    "    m.MaxCounterFlow=Constraint(m.L, rule=lambda m, l:  m.flow[l] >= -LineCapacity[l])\n",
    "    return m"
   ]
  },
  {
   "cell_type": "code",
   "execution_count": 43,
   "id": "cb2263fa",
   "metadata": {
    "scrolled": true
   },
   "outputs": [
    {
     "name": "stdout",
     "output_type": "stream",
     "text": [
      "# ==========================================================\n",
      "# = Solver Results                                         =\n",
      "# ==========================================================\n",
      "# ----------------------------------------------------------\n",
      "#   Problem Information\n",
      "# ----------------------------------------------------------\n",
      "Problem: \n",
      "- Name: unknown\n",
      "  Lower bound: 141038.51365909\n",
      "  Upper bound: 141038.51365909\n",
      "  Number of objectives: 1\n",
      "  Number of constraints: 41\n",
      "  Number of variables: 22\n",
      "  Number of nonzeros: 196\n",
      "  Sense: minimize\n",
      "# ----------------------------------------------------------\n",
      "#   Solver Information\n",
      "# ----------------------------------------------------------\n",
      "Solver: \n",
      "- Status: ok\n",
      "  Termination condition: optimal\n",
      "  Statistics: \n",
      "    Branch and bound: \n",
      "      Number of bounded subproblems: 0\n",
      "      Number of created subproblems: 0\n",
      "  Error rc: 0\n",
      "  Time: 0.04250788688659668\n",
      "# ----------------------------------------------------------\n",
      "#   Solution Information\n",
      "# ----------------------------------------------------------\n",
      "Solution: \n",
      "- number of solutions: 0\n",
      "  number of solutions displayed: 0\n"
     ]
    }
   ],
   "source": [
    "m= AOffPeakSpringED()\n",
    "SolverFactory('glpk',executable='D:\\download\\glpk-4.65\\w64\\glpsol.exe').solve(m).write()"
   ]
  },
  {
   "cell_type": "code",
   "execution_count": 44,
   "id": "83be1b89",
   "metadata": {},
   "outputs": [
    {
     "name": "stdout",
     "output_type": "stream",
     "text": [
      "1065.110672 metric ton\n"
     ]
    }
   ],
   "source": [
    "# Total emission in this hour\n",
    "# create an empty DataFrame with the appropriate column names\n",
    "dfeachgen = pd.DataFrame(columns=[\"Generator\", \"Power Output\"])\n",
    "\n",
    "for g in m.G:\n",
    "    dfeachgen.loc[g, \"Generator\"] = g\n",
    "    dfeachgen.loc[g, \"Power Output\"] = m.p[g].value\n",
    "\n",
    "\n",
    "TotalEmission= dfeachgen['Power Output']*df_genData['Average Emission Rate']\n",
    "\n",
    "EM=sum(TotalEmission)* 0.000453592\n",
    "\n",
    "print('{:1f} metric ton'.format(EM))"
   ]
  },
  {
   "cell_type": "code",
   "execution_count": 45,
   "id": "5ea0c8a8",
   "metadata": {},
   "outputs": [
    {
     "name": "stdout",
     "output_type": "stream",
     "text": [
      "SOLUTION-Average Spring off peak\n",
      "The total system cost is = $ 141038.5136590904\n",
      "Generation in MW\n",
      "non nuclear generator  1 = 0.00 \n",
      "non nuclear generator  2 = 307.40 \n",
      "non nuclear generator  3 = 0.00 \n",
      "non nuclear generator  4 = 0.00 \n",
      "non nuclear generator  5 = 0.00 \n",
      "non nuclear generator  6 = 0.00 \n",
      "non nuclear generator  7 = 0.00 \n",
      "non nuclear generator  8 = 0.00 \n",
      "non nuclear generator  9 = 1512.28 \n",
      "non nuclear generator 10 = 730.00 \n",
      "non nuclear generator 11 = 0.00 \n",
      "non nuclear generator 12 = 0.00 \n",
      "non nuclear generator 13 = 11000.00 \n",
      "non nuclear generator 14 = 0.00 \n",
      "non nuclear generator 15 = 0.00 \n",
      "non nuclear generator 16 = 796.00 \n",
      "non nuclear generator 17 = 0.00 \n",
      "non nuclear generator 18 = 0.00 \n",
      "Flow on transmission lines in MW\n",
      "line  1 = 5000.00 \n",
      "line  2 = -1179.84 \n",
      "line  3 = -3820.16 \n",
      "LMPs in $/MWh\n",
      "Node  1 = 19.00\n",
      "Node  2 = 24.00\n",
      "Node  3 = 21.50\n"
     ]
    }
   ],
   "source": [
    "print('SOLUTION-Average Spring off peak')\n",
    "print('The total system cost is = $',m.system_cost())\n",
    "\n",
    "print('Generation in MW')\n",
    "for g in G:\n",
    "        print(\"non nuclear generator {0:2d} = {1:.2f} \".format(g+1, m.p[g]()))\n",
    "print('Flow on transmission lines in MW')\n",
    "for l in L:\n",
    "        print(\"line {0:2d} = {1:.2f} \".format(l+1, m.flow[l]()))\n",
    "print('LMPs in $/MWh')\n",
    "for n in N:\n",
    "        print(\"Node {0:2d} = {1:.2f}\".format(n+1,m.dual[m.NodePowerBalanceConstraint[n]]))"
   ]
  },
  {
   "cell_type": "code",
   "execution_count": null,
   "id": "c987f8f5",
   "metadata": {},
   "outputs": [],
   "source": []
  }
 ],
 "metadata": {
  "kernelspec": {
   "display_name": "Python 3 (ipykernel)",
   "language": "python",
   "name": "python3"
  },
  "language_info": {
   "codemirror_mode": {
    "name": "ipython",
    "version": 3
   },
   "file_extension": ".py",
   "mimetype": "text/x-python",
   "name": "python",
   "nbconvert_exporter": "python",
   "pygments_lexer": "ipython3",
   "version": "3.9.13"
  }
 },
 "nbformat": 4,
 "nbformat_minor": 5
}
