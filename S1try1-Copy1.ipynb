{
 "cells": [
  {
   "cell_type": "code",
   "execution_count": 1,
   "id": "143c4aea",
   "metadata": {},
   "outputs": [],
   "source": [
    "import os\n",
    "import pandas as pd\n",
    "import numpy as np\n",
    "import matplotlib.pyplot as plt\n",
    "from pyomo.environ import *\n",
    "opt = SolverFactory('glpk').executable = 'D:\\download\\glpk-4.65\\w64'"
   ]
  },
  {
   "cell_type": "code",
   "execution_count": 2,
   "id": "5a4daa87",
   "metadata": {},
   "outputs": [],
   "source": [
    "#Read generators and demand data as two dataframes  Desktop717data\n",
    "df_genData=pd.read_excel(\"Desktop/717/data/S1try1.xlsx\",sheet_name=\"GeneratorsData\",skiprows=1) #read data from generators tab and skip the first row\n",
    "df_AverloadsData=pd.read_excel(\"Desktop/717/data/S1try1.xlsx\",sheet_name=\"rooftopS1AverageDemand2040\",skiprows=1)\n",
    "#df_PeakloadsData=pd.read_excel(\"Desktop/717/data/S1try1.xlsx\",sheet_name=\"PeakLoadData\",skiprows=1) \n",
    "df_linesData=pd.read_excel(\"Desktop/717/data/S1try1.xlsx\",sheet_name=\"LinesData\",skiprows=1) "
   ]
  },
  {
   "cell_type": "code",
   "execution_count": 3,
   "id": "04b2774c",
   "metadata": {},
   "outputs": [
    {
     "name": "stdout",
     "output_type": "stream",
     "text": [
      "We read data for 32 power generating units\n",
      "We read data for 3 nodes\n",
      "We read data for 3 transmission lines\n"
     ]
    }
   ],
   "source": [
    "#define the size of the sets\n",
    "NumGens=len(df_genData)\n",
    "NumNodes=len(df_AverloadsData)\n",
    "NumLines=len(df_linesData)\n",
    "#T=len(df_demandData)\n",
    "print(\"We read data for\", NumGens, \"power generating units\")\n",
    "print(\"We read data for\", NumNodes, \"nodes\")\n",
    "print(\"We read data for\", NumLines, \"transmission lines\")"
   ]
  },
  {
   "cell_type": "code",
   "execution_count": 4,
   "id": "10861de4",
   "metadata": {},
   "outputs": [],
   "source": [
    "#Define Indexes\n",
    "G=np.array([g for g in range(0,NumGens)])  \n",
    "N=np.array([n for n in range(0,NumNodes)])\n",
    "L=np.array([l for l in range(0,NumLines)])"
   ]
  },
  {
   "cell_type": "code",
   "execution_count": 5,
   "id": "7ac29dbc",
   "metadata": {
    "scrolled": true
   },
   "outputs": [
    {
     "data": {
      "text/plain": [
       "Index(['GenName', 'Node', 'FixedCost', 'SDCost', 'SUCost', 'VarCost', 'MaxGen',\n",
       "       'PSpringMaxGen', 'PSummerMaxGen', 'PAutumnMaxGen', 'PWinterMaxGen',\n",
       "       'OSpringMaxGen', 'OSummerMaxGen', 'OAutumnMaxGen', 'OWinterMaxGen',\n",
       "       'MinGen', 'RampDown', 'RampSD', 'RampSU', 'RampUp', 'MinUpTime',\n",
       "       'MinDownTime', 'ReqUp', 'ReqDown', 'InitialStatus', 'InitialGen',\n",
       "       'Plant Name', 'Fuel Type', 'Average Emission Rate'],\n",
       "      dtype='object')"
      ]
     },
     "execution_count": 5,
     "metadata": {},
     "output_type": "execute_result"
    }
   ],
   "source": [
    "df_genData.columns"
   ]
  },
  {
   "cell_type": "code",
   "execution_count": 6,
   "id": "00a1b78e",
   "metadata": {},
   "outputs": [],
   "source": [
    "##Declare the generator's parameters and assign them the data we read before\n",
    "VarCost=df_genData.loc[:,'VarCost'].to_numpy()\n",
    "# generation capacity of peak hour for each seasons\n",
    "PSpringPMax=df_genData.loc[:,'PSpringMaxGen'].to_numpy()\n",
    "PSummerPMax=df_genData.loc[:,'PSummerMaxGen'].to_numpy()\n",
    "PFallPMax=df_genData.loc[:,'PAutumnMaxGen'].to_numpy()\n",
    "PWinterPMax=df_genData.loc[:,'PWinterMaxGen'].to_numpy()\n",
    "# generation capacity of off-peak hour for each seasons\n",
    "OSpringPMax=df_genData.loc[:,'OSpringMaxGen'].to_numpy()\n",
    "OSummerPMax=df_genData.loc[:,'OSummerMaxGen'].to_numpy()\n",
    "OFallPMax=df_genData.loc[:,'OAutumnMaxGen'].to_numpy()\n",
    "OWinterPMax=df_genData.loc[:,'OWinterMaxGen'].to_numpy()\n",
    "#emission rate of each generator\n",
    "GEmissionRate=df_genData.loc[:,'Average Emission Rate'].to_numpy()\n",
    "#other attributes\n",
    "PMin=df_genData.loc[:,'MinGen'].to_numpy()\n",
    "GenNode=df_genData.loc[:,'Node'].to_numpy()"
   ]
  },
  {
   "cell_type": "code",
   "execution_count": 7,
   "id": "8c423ebc",
   "metadata": {},
   "outputs": [
    {
     "data": {
      "text/plain": [
       "Index(['LineName', 'NodeFrom', 'NodeTo', 'Reactance', 'Capacity'], dtype='object')"
      ]
     },
     "execution_count": 7,
     "metadata": {},
     "output_type": "execute_result"
    }
   ],
   "source": [
    "df_linesData.columns  #In the data we defined 3 lines as: L1-2, L2-3, and L3-1.\n",
    "#We could have defined them in other way, but this is convenient for the KVL equation"
   ]
  },
  {
   "cell_type": "code",
   "execution_count": 8,
   "id": "84300347",
   "metadata": {},
   "outputs": [],
   "source": [
    "##Declare the transmission lines' parameters and assign them the data we read before\n",
    "NodeFrom=df_linesData.loc[:,'NodeFrom'].to_numpy()\n",
    "NodeTo=df_linesData.loc[:,'NodeTo'].to_numpy()\n",
    "LineReactance=df_linesData.loc[:,'Reactance'].to_numpy()\n",
    "LineCapacity=df_linesData.loc[:,'Capacity'].to_numpy()"
   ]
  },
  {
   "cell_type": "code",
   "execution_count": 9,
   "id": "642ab76c",
   "metadata": {
    "scrolled": true
   },
   "outputs": [
    {
     "data": {
      "text/plain": [
       "Index(['LoadName', 'Node', 'PeakWinter', 'PeakSpring', 'PeakSummer',\n",
       "       'PeakFall', 'Off-PeakWinter', 'Off-PeakSpring', 'Off-PeakSummer',\n",
       "       'Off-PeakFall'],\n",
       "      dtype='object')"
      ]
     },
     "execution_count": 9,
     "metadata": {},
     "output_type": "execute_result"
    }
   ],
   "source": [
    "df_AverloadsData.columns"
   ]
  },
  {
   "cell_type": "code",
   "execution_count": 10,
   "id": "6aaf9313",
   "metadata": {},
   "outputs": [],
   "source": [
    "ALoadBus=df_AverloadsData.loc[:,'Node'].to_numpy( )\n",
    "#Demand of peak hours and off-peak hour in each seasons\n",
    "APeakSpringDemand=df_AverloadsData.loc[:,'PeakSpring'].to_numpy( )\n",
    "AOffPeakSpringDemand=df_AverloadsData.loc[:,'Off-PeakSpring'].to_numpy( )\n",
    "APeakSummerDemand=df_AverloadsData.loc[:,'PeakSummer'].to_numpy( )\n",
    "AOffPeakSummerDemand=df_AverloadsData.loc[:,'Off-PeakSummer'].to_numpy( )\n",
    "APeakFallDemand=df_AverloadsData.loc[:,'PeakFall'].to_numpy( )\n",
    "AOffPeakFallDemand=df_AverloadsData.loc[:,'Off-PeakFall'].to_numpy( )\n",
    "APeakWinterDemand=df_AverloadsData.loc[:,'PeakWinter'].to_numpy( )\n",
    "AOffPeakWinterDemand=df_AverloadsData.loc[:,'Off-PeakWinter'].to_numpy( )\n"
   ]
  },
  {
   "cell_type": "code",
   "execution_count": 11,
   "id": "35453f51",
   "metadata": {},
   "outputs": [],
   "source": [
    "# define a function indicatorMatrix that creates indicator matrices to relate generators with their node\n",
    "# and relate lines with the nodes\n",
    "#dataRows is a column vector of NumRows rows. Each element says the column where this row should be a one in the final matrix\n",
    "def IndicatorMatrix(NumRows, NumCols, dataRows):\n",
    "    matrix= np.zeros((NumRows, NumCols),dtype=int)\n",
    "    for i in range(0,NumRows):\n",
    "        matrix[i,dataRows[i]-1]=1\n",
    "    return matrix"
   ]
  },
  {
   "cell_type": "code",
   "execution_count": 12,
   "id": "13aea2a6",
   "metadata": {},
   "outputs": [],
   "source": [
    "#Create indicator matrices using the function defined above\n",
    "#GeneratorInBus is a matrix of G rows and N columns that has 1 in the position g,n if generator g is AT node N, 0 otherwise\n",
    "GeneratorInBus=IndicatorMatrix(NumGens,NumNodes,GenNode)\n",
    "#LineFromBus is an indicator matrix of L rows and N columns that has 1 in the position l,n if line l departs FROM node N, 0 otherwise\n",
    "LineFromBus=IndicatorMatrix(NumLines,NumNodes,NodeFrom)\n",
    "#LineToBus is an indicator matrix of L rows and N columns that has 1 in the position l,n if line l arrives TO node N, 0 otherwise\n",
    "LineToBus=IndicatorMatrix(NumLines,NumNodes,NodeTo)"
   ]
  },
  {
   "cell_type": "code",
   "execution_count": 13,
   "id": "45231782",
   "metadata": {
    "scrolled": false
   },
   "outputs": [
    {
     "data": {
      "text/plain": [
       "array([[1, 0, 0],\n",
       "       [1, 0, 0],\n",
       "       [0, 1, 0],\n",
       "       [0, 1, 0],\n",
       "       [0, 0, 1],\n",
       "       [0, 0, 1],\n",
       "       [0, 0, 1],\n",
       "       [1, 0, 0],\n",
       "       [1, 0, 0],\n",
       "       [1, 0, 0],\n",
       "       [1, 0, 0],\n",
       "       [1, 0, 0],\n",
       "       [0, 1, 0],\n",
       "       [0, 1, 0],\n",
       "       [0, 1, 0],\n",
       "       [0, 1, 0],\n",
       "       [0, 0, 1],\n",
       "       [1, 0, 0],\n",
       "       [0, 0, 1],\n",
       "       [0, 0, 1],\n",
       "       [1, 0, 0],\n",
       "       [0, 1, 0],\n",
       "       [0, 1, 0],\n",
       "       [0, 0, 1],\n",
       "       [0, 0, 1],\n",
       "       [0, 0, 1],\n",
       "       [1, 0, 0],\n",
       "       [0, 1, 0],\n",
       "       [0, 0, 1],\n",
       "       [0, 0, 1],\n",
       "       [1, 0, 0],\n",
       "       [0, 1, 0]])"
      ]
     },
     "execution_count": 13,
     "metadata": {},
     "output_type": "execute_result"
    }
   ],
   "source": [
    "GeneratorInBus"
   ]
  },
  {
   "cell_type": "code",
   "execution_count": 99,
   "id": "cc6ef6fd",
   "metadata": {},
   "outputs": [],
   "source": [
    "#UC MODEL of Average winter peak hour\n",
    "def APeakWinterED():\n",
    "    m=ConcreteModel()\n",
    "    #m.dual = Suffix(direction=Suffix.IMPORT_EXPORT)\n",
    "    m.dual = Suffix(direction=Suffix.IMPORT)#Create a 'dual' suffix component on the instance so the solver plugin will know which suffixes to collect\n",
    "    m.N=Set(initialize=N)\n",
    "    m.L=Set(initialize=L)\n",
    "    m.G=Set(initialize=G)\n",
    "    m.p=Var(m.G, bounds = (0,10000))#This is power generation. Could also declare as m.p=Var(m.G,within=PositiveReals)\n",
    "    m.flow=Var(m.L, bounds = (-1000,1000))#This is power flow on a line\n",
    "    m.system_cost=Objective(expr=sum(m.p[g]*VarCost[g] for g in m.G), sense=minimize)#Objective is to minimize costs\n",
    "    m.MaxGeneration=Constraint(m.G, rule=lambda m, g:  m.p[g] <= PWinterPMax[g])\n",
    "    #m.MaxEmission= Constraint(m.G, rule=lambda m, g:  sum(m.p[g]* (GEmissionRate[g])for g in m.G) <= 4000000)#maybe put parameter to replace exact number\n",
    "    # refer Constraint(rule=lambda m: sum(LineReactance[l]*m.flow[l] for l in L)==0)\n",
    "   \n",
    "    m.NodePowerBalanceConstraint=Constraint(m.N, rule=lambda m, n: sum(LineToBus[l,n]*m.flow[l] for l in L)\n",
    "                                            -sum(LineFromBus[l,n]*m.flow[l] for l in L)+sum(GeneratorInBus[g,n]*m.p[g] for g in G)\n",
    "                                            == APeakWinterDemand[n])\n",
    "    m.KVLAroundLoopConstraint=Constraint(rule=lambda m: sum(LineReactance[l]*m.flow[l] for l in L)==0)#Note that in the data we defined the lines L1-2, L2-3, and L3,1 . That way the coefficient of each one in the KVL loop is positive 1.\n",
    "    m.MaxFlow=Constraint(m.L, rule=lambda m, l:  m.flow[l] <= LineCapacity[l])\n",
    "    m.MaxCounterFlow=Constraint(m.L, rule=lambda m, l:  m.flow[l] >= -LineCapacity[l])\n",
    "    return m\n",
    "\n",
    "\n",
    "\n"
   ]
  },
  {
   "cell_type": "code",
   "execution_count": 100,
   "id": "b1e14cb0",
   "metadata": {
    "scrolled": false
   },
   "outputs": [
    {
     "name": "stdout",
     "output_type": "stream",
     "text": [
      "# ==========================================================\n",
      "# = Solver Results                                         =\n",
      "# ==========================================================\n",
      "# ----------------------------------------------------------\n",
      "#   Problem Information\n",
      "# ----------------------------------------------------------\n",
      "Problem: \n",
      "- Name: unknown\n",
      "  Lower bound: 245179.984127341\n",
      "  Upper bound: 245179.984127341\n",
      "  Number of objectives: 1\n",
      "  Number of constraints: 43\n",
      "  Number of variables: 36\n",
      "  Number of nonzeros: 80\n",
      "  Sense: minimize\n",
      "# ----------------------------------------------------------\n",
      "#   Solver Information\n",
      "# ----------------------------------------------------------\n",
      "Solver: \n",
      "- Status: ok\n",
      "  Termination condition: optimal\n",
      "  Statistics: \n",
      "    Branch and bound: \n",
      "      Number of bounded subproblems: 0\n",
      "      Number of created subproblems: 0\n",
      "  Error rc: 0\n",
      "  Time: 0.04955458641052246\n",
      "# ----------------------------------------------------------\n",
      "#   Solution Information\n",
      "# ----------------------------------------------------------\n",
      "Solution: \n",
      "- number of solutions: 0\n",
      "  number of solutions displayed: 0\n"
     ]
    }
   ],
   "source": [
    "m=APeakWinterED()\n",
    "SolverFactory('glpk',executable='D:\\download\\glpk-4.65\\w64\\glpsol.exe').solve(m).write()"
   ]
  },
  {
   "cell_type": "code",
   "execution_count": 102,
   "id": "98652408",
   "metadata": {},
   "outputs": [
    {
     "data": {
      "text/plain": [
       "7446937.611736137"
      ]
     },
     "execution_count": 102,
     "metadata": {},
     "output_type": "execute_result"
    }
   ],
   "source": [
    "# create an empty DataFrame with the appropriate column names\n",
    "dfeachgen = pd.DataFrame(columns=[\"Generator\", \"Power Output\"])\n",
    "\n",
    "for g in m.G:\n",
    "    dfeachgen.loc[g, \"Generator\"] = g\n",
    "    dfeachgen.loc[g, \"Power Output\"] = m.p[g].value\n",
    "\n",
    "\n",
    "TotalEmission= dfeachgen['Power Output']*df_genData['Average Emission Rate']\n",
    "\n",
    "sum(TotalEmission)"
   ]
  },
  {
   "cell_type": "code",
   "execution_count": 101,
   "id": "f76cd66a",
   "metadata": {
    "scrolled": false
   },
   "outputs": [
    {
     "name": "stdout",
     "output_type": "stream",
     "text": [
      "SOLUTION-Average winter peak\n",
      "The total system cost is = $ 245179.9841273406\n",
      "Generation in MW\n",
      "generator  1 = 0.00 \n",
      "generator  2 = 0.00 \n",
      "generator  3 = 0.00 \n",
      "generator  4 = 0.00 \n",
      "generator  5 = 0.00 \n",
      "generator  6 = 0.00 \n",
      "generator  7 = 0.00 \n",
      "generator  8 = 0.00 \n",
      "generator  9 = 0.00 \n",
      "generator 10 = 0.00 \n",
      "generator 11 = 0.00 \n",
      "generator 12 = 0.00 \n",
      "generator 13 = 0.00 \n",
      "generator 14 = 0.00 \n",
      "generator 15 = 809.72 \n",
      "generator 16 = 2244.80 \n",
      "generator 17 = 730.00 \n",
      "generator 18 = 0.00 \n",
      "generator 19 = 0.00 \n",
      "generator 20 = 503.57 \n",
      "generator 21 = 0.00 \n",
      "generator 22 = 2425.00 \n",
      "generator 23 = 2716.00 \n",
      "generator 24 = 2795.73 \n",
      "generator 25 = 745.54 \n",
      "generator 26 = 922.37 \n",
      "generator 27 = 6060.61 \n",
      "generator 28 = 490.84 \n",
      "generator 29 = 490.84 \n",
      "generator 30 = 368.00 \n",
      "generator 31 = 0.00 \n",
      "generator 32 = 0.00 \n",
      "Flow on transmission lines in MW\n",
      "line  1 = 900.00 \n",
      "line  2 = 0.00 \n",
      "line  3 = -900.00 \n",
      "LMPs in $/MWh\n",
      "Node  1 = 0.00\n",
      "Node  2 = 30.00\n",
      "Node  3 = 25.00\n"
     ]
    }
   ],
   "source": [
    "print('SOLUTION-Average winter peak')\n",
    "print('The total system cost is = $',m.system_cost())\n",
    "#print(\"The total emission in this hour ={1:.2f}\".format(sum(TotalEmission)*0.000453592))\n",
    "print('Generation in MW')\n",
    "for g in G:\n",
    "        print(\"generator {0:2d} = {1:.2f} \".format(g+1, m.p[g]()))\n",
    "print('Flow on transmission lines in MW')\n",
    "for l in L:\n",
    "        print(\"line {0:2d} = {1:.2f} \".format(l+1, m.flow[l]()))\n",
    "print('LMPs in $/MWh')\n",
    "for n in N:\n",
    "        print(\"Node {0:2d} = {1:.2f}\".format(n+1,m.dual[m.NodePowerBalanceConstraint[n]]))"
   ]
  }
 ],
 "metadata": {
  "kernelspec": {
   "display_name": "Python 3 (ipykernel)",
   "language": "python",
   "name": "python3"
  },
  "language_info": {
   "codemirror_mode": {
    "name": "ipython",
    "version": 3
   },
   "file_extension": ".py",
   "mimetype": "text/x-python",
   "name": "python",
   "nbconvert_exporter": "python",
   "pygments_lexer": "ipython3",
   "version": "3.9.13"
  }
 },
 "nbformat": 4,
 "nbformat_minor": 5
}
